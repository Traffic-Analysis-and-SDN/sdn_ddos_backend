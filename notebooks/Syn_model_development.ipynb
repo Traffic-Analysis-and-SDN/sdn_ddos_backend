{
 "cells": [
  {
   "cell_type": "code",
   "execution_count": 2,
   "id": "bbc7f9ac",
   "metadata": {},
   "outputs": [
    {
     "name": "stdout",
     "output_type": "stream",
     "text": [
      "--- Data Info ---\n",
      "<class 'pandas.core.frame.DataFrame'>\n",
      "RangeIndex: 600000 entries, 0 to 599999\n",
      "Data columns (total 83 columns):\n",
      " #   Column                       Non-Null Count   Dtype  \n",
      "---  ------                       --------------   -----  \n",
      " 0   Unnamed: 0                   600000 non-null  float64\n",
      " 1   Source Port                  600000 non-null  float64\n",
      " 2   Destination Port             600000 non-null  float64\n",
      " 3   Protocol                     600000 non-null  float64\n",
      " 4   Flow Duration                600000 non-null  float64\n",
      " 5   Total Fwd Packets            600000 non-null  float64\n",
      " 6   Total Backward Packets       600000 non-null  float64\n",
      " 7   Total Length of Fwd Packets  600000 non-null  float64\n",
      " 8   Total Length of Bwd Packets  600000 non-null  float64\n",
      " 9   Fwd Packet Length Max        600000 non-null  float64\n",
      " 10  Fwd Packet Length Min        600000 non-null  float64\n",
      " 11  Fwd Packet Length Mean       600000 non-null  float64\n",
      " 12  Fwd Packet Length Std        600000 non-null  float64\n",
      " 13  Bwd Packet Length Max        600000 non-null  float64\n",
      " 14  Bwd Packet Length Min        600000 non-null  float64\n",
      " 15  Bwd Packet Length Mean       600000 non-null  float64\n",
      " 16  Bwd Packet Length Std        600000 non-null  float64\n",
      " 17  Flow Bytes/s                 600000 non-null  float64\n",
      " 18  Flow Packets/s               600000 non-null  float64\n",
      " 19  Flow IAT Mean                600000 non-null  float64\n",
      " 20  Flow IAT Std                 600000 non-null  float64\n",
      " 21  Flow IAT Max                 600000 non-null  float64\n",
      " 22  Flow IAT Min                 600000 non-null  float64\n",
      " 23  Fwd IAT Total                600000 non-null  float64\n",
      " 24  Fwd IAT Mean                 600000 non-null  float64\n",
      " 25  Fwd IAT Std                  600000 non-null  float64\n",
      " 26  Fwd IAT Max                  600000 non-null  float64\n",
      " 27  Fwd IAT Min                  600000 non-null  float64\n",
      " 28  Bwd IAT Total                600000 non-null  float64\n",
      " 29  Bwd IAT Mean                 600000 non-null  float64\n",
      " 30  Bwd IAT Std                  600000 non-null  float64\n",
      " 31  Bwd IAT Max                  600000 non-null  float64\n",
      " 32  Bwd IAT Min                  600000 non-null  float64\n",
      " 33  Fwd PSH Flags                600000 non-null  float64\n",
      " 34  Bwd PSH Flags                600000 non-null  float64\n",
      " 35  Fwd URG Flags                600000 non-null  float64\n",
      " 36  Bwd URG Flags                600000 non-null  float64\n",
      " 37  Fwd Header Length            600000 non-null  float64\n",
      " 38  Bwd Header Length            600000 non-null  float64\n",
      " 39  Fwd Packets/s                600000 non-null  float64\n",
      " 40  Bwd Packets/s                600000 non-null  float64\n",
      " 41  Min Packet Length            600000 non-null  float64\n",
      " 42  Max Packet Length            600000 non-null  float64\n",
      " 43  Packet Length Mean           600000 non-null  float64\n",
      " 44  Packet Length Std            600000 non-null  float64\n",
      " 45  Packet Length Variance       600000 non-null  float64\n",
      " 46  FIN Flag Count               600000 non-null  float64\n",
      " 47  SYN Flag Count               600000 non-null  float64\n",
      " 48  RST Flag Count               600000 non-null  float64\n",
      " 49  PSH Flag Count               600000 non-null  float64\n",
      " 50  ACK Flag Count               600000 non-null  float64\n",
      " 51  URG Flag Count               600000 non-null  float64\n",
      " 52  CWE Flag Count               600000 non-null  float64\n",
      " 53  ECE Flag Count               600000 non-null  float64\n",
      " 54  Down/Up Ratio                600000 non-null  float64\n",
      " 55  Average Packet Size          600000 non-null  float64\n",
      " 56  Avg Fwd Segment Size         600000 non-null  float64\n",
      " 57  Avg Bwd Segment Size         600000 non-null  float64\n",
      " 58  Fwd Header Length.1          600000 non-null  float64\n",
      " 59  Fwd Avg Bytes/Bulk           600000 non-null  float64\n",
      " 60  Fwd Avg Packets/Bulk         600000 non-null  float64\n",
      " 61  Fwd Avg Bulk Rate            600000 non-null  float64\n",
      " 62  Bwd Avg Bytes/Bulk           600000 non-null  float64\n",
      " 63  Bwd Avg Packets/Bulk         600000 non-null  float64\n",
      " 64  Bwd Avg Bulk Rate            600000 non-null  float64\n",
      " 65  Subflow Fwd Packets          600000 non-null  float64\n",
      " 66  Subflow Fwd Bytes            600000 non-null  float64\n",
      " 67  Subflow Bwd Packets          600000 non-null  float64\n",
      " 68  Subflow Bwd Bytes            600000 non-null  float64\n",
      " 69  Init_Win_bytes_forward       600000 non-null  float64\n",
      " 70  Init_Win_bytes_backward      600000 non-null  float64\n",
      " 71  act_data_pkt_fwd             600000 non-null  float64\n",
      " 72  min_seg_size_forward         600000 non-null  float64\n",
      " 73  Active Mean                  600000 non-null  float64\n",
      " 74  Active Std                   600000 non-null  float64\n",
      " 75  Active Max                   600000 non-null  float64\n",
      " 76  Active Min                   600000 non-null  float64\n",
      " 77  Idle Mean                    600000 non-null  float64\n",
      " 78  Idle Std                     600000 non-null  float64\n",
      " 79  Idle Max                     600000 non-null  float64\n",
      " 80  Idle Min                     600000 non-null  float64\n",
      " 81  Inbound                      600000 non-null  float64\n",
      " 82  Label                        600000 non-null  object \n",
      "dtypes: float64(82), object(1)\n",
      "memory usage: 379.9+ MB\n",
      "\n",
      "--- Label Distribution ---\n",
      "Label\n",
      "BENIGN    300000\n",
      "Syn       300000\n",
      "Name: count, dtype: int64\n"
     ]
    }
   ],
   "source": [
    "import pandas as pd\n",
    "\n",
    "# Define the path to your dataset\n",
    "file_path = r'C:/Users/COOL/sdn_ddos_backend/dataset/Syn-balanced-training-data.parquet'\n",
    "\n",
    "# Load the dataset\n",
    "df = pd.read_parquet(file_path)\n",
    "\n",
    "# Clean column names by stripping any leading/trailing spaces\n",
    "df.columns = df.columns.str.strip()\n",
    "\n",
    "# --- Initial Verification ---\n",
    "print(\"--- Data Info ---\")\n",
    "df.info()\n",
    "\n",
    "print(\"\\n--- Label Distribution ---\")\n",
    "# Verify that the dataset is balanced between BENIGN and SYN labels\n",
    "print(df['Label'].value_counts())"
   ]
  },
  {
   "cell_type": "code",
   "execution_count": 3,
   "id": "eca24dc8",
   "metadata": {},
   "outputs": [
    {
     "name": "stdout",
     "output_type": "stream",
     "text": [
      "Index(['Unnamed: 0', 'Source Port', 'Destination Port', 'Protocol',\n",
      "       'Flow Duration', 'Total Fwd Packets', 'Total Backward Packets',\n",
      "       'Total Length of Fwd Packets', 'Total Length of Bwd Packets',\n",
      "       'Fwd Packet Length Max', 'Fwd Packet Length Min',\n",
      "       'Fwd Packet Length Mean', 'Fwd Packet Length Std',\n",
      "       'Bwd Packet Length Max', 'Bwd Packet Length Min',\n",
      "       'Bwd Packet Length Mean', 'Bwd Packet Length Std', 'Flow Bytes/s',\n",
      "       'Flow Packets/s', 'Flow IAT Mean', 'Flow IAT Std', 'Flow IAT Max',\n",
      "       'Flow IAT Min', 'Fwd IAT Total', 'Fwd IAT Mean', 'Fwd IAT Std',\n",
      "       'Fwd IAT Max', 'Fwd IAT Min', 'Bwd IAT Total', 'Bwd IAT Mean',\n",
      "       'Bwd IAT Std', 'Bwd IAT Max', 'Bwd IAT Min', 'Fwd PSH Flags',\n",
      "       'Bwd PSH Flags', 'Fwd URG Flags', 'Bwd URG Flags', 'Fwd Header Length',\n",
      "       'Bwd Header Length', 'Fwd Packets/s', 'Bwd Packets/s',\n",
      "       'Min Packet Length', 'Max Packet Length', 'Packet Length Mean',\n",
      "       'Packet Length Std', 'Packet Length Variance', 'FIN Flag Count',\n",
      "       'SYN Flag Count', 'RST Flag Count', 'PSH Flag Count', 'ACK Flag Count',\n",
      "       'URG Flag Count', 'CWE Flag Count', 'ECE Flag Count', 'Down/Up Ratio',\n",
      "       'Average Packet Size', 'Avg Fwd Segment Size', 'Avg Bwd Segment Size',\n",
      "       'Fwd Header Length.1', 'Fwd Avg Bytes/Bulk', 'Fwd Avg Packets/Bulk',\n",
      "       'Fwd Avg Bulk Rate', 'Bwd Avg Bytes/Bulk', 'Bwd Avg Packets/Bulk',\n",
      "       'Bwd Avg Bulk Rate', 'Subflow Fwd Packets', 'Subflow Fwd Bytes',\n",
      "       'Subflow Bwd Packets', 'Subflow Bwd Bytes', 'Init_Win_bytes_forward',\n",
      "       'Init_Win_bytes_backward', 'act_data_pkt_fwd', 'min_seg_size_forward',\n",
      "       'Active Mean', 'Active Std', 'Active Max', 'Active Min', 'Idle Mean',\n",
      "       'Idle Std', 'Idle Max', 'Idle Min', 'Inbound', 'Label'],\n",
      "      dtype='object')\n"
     ]
    }
   ],
   "source": [
    "print(df.columns)"
   ]
  },
  {
   "cell_type": "code",
   "execution_count": 4,
   "id": "723cfcf6",
   "metadata": {},
   "outputs": [
    {
     "name": "stdout",
     "output_type": "stream",
     "text": [
      "\n",
      "--- Data Splitting Complete ---\n",
      "Training features shape: (420000, 8)\n",
      "Testing features shape: (180000, 8)\n"
     ]
    }
   ],
   "source": [
    "import numpy as np\n",
    "from sklearn.model_selection import train_test_split\n",
    "from sklearn.preprocessing import LabelEncoder\n",
    "\n",
    "# 1. Define your feature \"contract\"\n",
    "contract_features = [\n",
    "    'Protocol',\n",
    "    'Flow Duration',\n",
    "    'Total Fwd Packets',\n",
    "    'Total Backward Packets',\n",
    "    'Fwd IAT Total',\n",
    "    'Packet Length Mean',\n",
    "    'FIN Flag Count',\n",
    "    'SYN Flag Count'\n",
    "]\n",
    "\n",
    "# 2. Select only the contract features and the label\n",
    "df_model = df[contract_features + ['Label']].copy()\n",
    "\n",
    "# 3. Clean the data by removing any infinite or missing values\n",
    "df_model.replace([np.inf, -np.inf], np.nan, inplace=True)\n",
    "df_model.dropna(inplace=True)\n",
    "\n",
    "# 4. Separate features (X) and the target label (y)\n",
    "X = df_model.drop('Label', axis=1)\n",
    "y = df_model['Label']\n",
    "\n",
    "# 5. Encode the text labels ('BENIGN', 'Syn') into numbers (0, 1)\n",
    "label_encoder = LabelEncoder()\n",
    "y_encoded = label_encoder.fit_transform(y)\n",
    "\n",
    "# 6. Split the data into 70% for training and 30% for testing\n",
    "X_train, X_test, y_train, y_test = train_test_split(X, y_encoded, test_size=0.3, random_state=42)\n",
    "\n",
    "# --- Verification ---\n",
    "print(\"\\n--- Data Splitting Complete ---\")\n",
    "print(f\"Training features shape: {X_train.shape}\")\n",
    "print(f\"Testing features shape: {X_test.shape}\")"
   ]
  },
  {
   "cell_type": "code",
   "execution_count": 5,
   "id": "b85e0165",
   "metadata": {},
   "outputs": [
    {
     "name": "stdout",
     "output_type": "stream",
     "text": [
      "\n",
      "--- Model Training Complete ---\n"
     ]
    }
   ],
   "source": [
    "from sklearn.ensemble import RandomForestClassifier\n",
    "\n",
    "# Create an instance of the model with standard parameters\n",
    "model = RandomForestClassifier(n_estimators=100, random_state=42)\n",
    "\n",
    "# Train the model\n",
    "model.fit(X_train, y_train)\n",
    "\n",
    "print(\"\\n--- Model Training Complete ---\")"
   ]
  },
  {
   "cell_type": "code",
   "execution_count": 6,
   "id": "081068ca",
   "metadata": {},
   "outputs": [
    {
     "name": "stdout",
     "output_type": "stream",
     "text": [
      "\n",
      "--- Model Performance Metrics ---\n",
      "Accuracy: 0.9879\n",
      "Precision: 0.9764\n",
      "Recall: 0.9999\n",
      "F1-Score: 0.9880\n",
      "\n",
      "--- Confusion Matrix ---\n"
     ]
    },
    {
     "data": {
      "image/png": "[encoded data removed]",
      "text/plain": [
       "<Figure size 640x480 with 2 Axes>"
      ]
     },
     "metadata": {},
     "output_type": "display_data"
    }
   ],
   "source": [
    "from sklearn.metrics import accuracy_score, precision_score, recall_score, f1_score, confusion_matrix\n",
    "import seaborn as sns\n",
    "import matplotlib.pyplot as plt\n",
    "\n",
    "# Make predictions on the test set\n",
    "predictions = model.predict(X_test)\n",
    "\n",
    "# Calculate and print performance metrics\n",
    "print(\"\\n--- Model Performance Metrics ---\")\n",
    "print(f\"Accuracy: {accuracy_score(y_test, predictions):.4f}\")\n",
    "print(f\"Precision: {precision_score(y_test, predictions):.4f}\")\n",
    "print(f\"Recall: {recall_score(y_test, predictions):.4f}\")\n",
    "print(f\"F1-Score: {f1_score(y_test, predictions):.4f}\")\n",
    "\n",
    "# Display a confusion matrix to visualize performance\n",
    "print(\"\\n--- Confusion Matrix ---\")\n",
    "cm = confusion_matrix(y_test, predictions)\n",
    "sns.heatmap(cm, annot=True, fmt='d', cmap='Blues', xticklabels=label_encoder.classes_, yticklabels=label_encoder.classes_)\n",
    "plt.xlabel('Predicted Label')\n",
    "plt.ylabel('True Label')\n",
    "plt.show()"
   ]
  },
  {
   "cell_type": "code",
   "execution_count": 7,
   "id": "a2ed9726",
   "metadata": {},
   "outputs": [
    {
     "name": "stdout",
     "output_type": "stream",
     "text": [
      "\n",
      "--- Model Saved ---\n",
      "Specialized SYN flood model saved to: C:/Users/COOL/sdn_ddos_backend/models\\syn_flood_model.joblib\n"
     ]
    }
   ],
   "source": [
    "import joblib\n",
    "import os\n",
    "\n",
    "# Define the folder and file path\n",
    "model_folder = r'C:/Users/COOL/sdn_ddos_backend/models'\n",
    "file_path = os.path.join(model_folder, 'syn_flood_model.joblib')\n",
    "\n",
    "# Create the directory if it doesn't exist\n",
    "os.makedirs(model_folder, exist_ok=True)\n",
    "\n",
    "# Save the trained model to the file\n",
    "joblib.dump(model, file_path)\n",
    "\n",
    "print(f\"\\n--- Model Saved ---\")\n",
    "print(f\"Specialized SYN flood model saved to: {file_path}\")"
   ]
  },
  {
   "cell_type": "code",
   "execution_count": null,
   "id": "f8f4da2e",
   "metadata": {},
   "outputs": [],
   "source": []
  }
 ],
 "metadata": {
  "kernelspec": {
   "display_name": "base",
   "language": "python",
   "name": "python3"
  },
  "language_info": {
   "codemirror_mode": {
    "name": "ipython",
    "version": 3
   },
   "file_extension": ".py",
   "mimetype": "text/x-python",
   "name": "python",
   "nbconvert_exporter": "python",
   "pygments_lexer": "ipython3",
   "version": "3.12.7"
  }
 },
 "nbformat": 4,
 "nbformat_minor": 5
}
